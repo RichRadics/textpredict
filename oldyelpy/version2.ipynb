{
 "cells": [
  {
   "cell_type": "markdown",
   "metadata": {},
   "source": [
    "First R-based experiments showed the datasets are very very large, and R isn't suited for the pre-processing steps.\n",
    "I'm going to try to use Python instead to generate my initial dataset\n",
    "\n"
   ]
  },
  {
   "cell_type": "code",
   "execution_count": 1,
   "metadata": {
    "collapsed": false
   },
   "outputs": [],
   "source": [
    "from collections import defaultdict\n",
    "import string\n",
    "import sys\n",
    "import re\n",
    "import copy\n",
    "from stemming.porter2 import stem"
   ]
  },
  {
   "cell_type": "code",
   "execution_count": 2,
   "metadata": {
    "collapsed": true
   },
   "outputs": [],
   "source": [
    "def find_ngrams(input_list, n):\n",
    "  return zip(*[input_list[i:] for i in range(n)])"
   ]
  },
  {
   "cell_type": "code",
   "execution_count": 3,
   "metadata": {
    "collapsed": false
   },
   "outputs": [],
   "source": [
    "re_tweetfilter = re.compile('[^a-z0-9#@]')\n",
    "def lineProcess(tdm, inline, docNumber, ngrams = 1):\n",
    "    # lowercase, remove punctuation, numbers\n",
    "    inline = re_tweetfilter.sub(' ',inline.lower()).split()\n",
    "    # stem anything that isn't name or hashtag\n",
    "    for i in range(len(inline)):\n",
    "        inline[i]=stem(inline[i]) if not inline[i].startswith(('@','#')) else 'x'+inline[i]\n",
    "    # find the n-grams\n",
    "    ngramlist=[]\n",
    "    for j in range(ngrams):\n",
    "        ngramlist+=find_ngrams(inline,j+1)\n",
    "    # and finally add to the dictionary\n",
    "    for k in ngramlist:\n",
    "        k=':'.join(k)\n",
    "        if k not in tdm: tdm[k]={}\n",
    "        if docNumber not in tdm[k]: tdm[k][docNumber] = 0\n",
    "        tdm[k][docNumber]+=1\n",
    "    return tdm"
   ]
  },
  {
   "cell_type": "code",
   "execution_count": 5,
   "metadata": {
    "collapsed": true
   },
   "outputs": [],
   "source": [
    "def purgeSparseTdm(tdm, minterms=1):\n",
    "    tmpTdm = dict(tdm)\n",
    "    for ngram in tdm:\n",
    "        cnt=sum([tdm[ngram][x] for x in tdm[ngram]])\n",
    "        if cnt<minterms:\n",
    "            del tmpTdm[ngram]\n",
    "    return copy.copy(tmpTdm)"
   ]
  },
  {
   "cell_type": "code",
   "execution_count": 6,
   "metadata": {
    "collapsed": true
   },
   "outputs": [],
   "source": [
    "def dtmToTdm(inDtm):\n",
    "    outTdm={}\n",
    "    for lineNumber in inDtm:\n",
    "        for word in inDtm[lineNumber]:\n",
    "            if word not in outTdm: outTdm[word]={}\n",
    "            outTdm[word][lineNumber]=inDtm[lineNumber][word]\n",
    "    return outTdm\n",
    "    "
   ]
  },
  {
   "cell_type": "code",
   "execution_count": 7,
   "metadata": {
    "collapsed": false
   },
   "outputs": [
    {
     "ename": "KeyboardInterrupt",
     "evalue": "",
     "output_type": "error",
     "traceback": [
      "\u001b[0;31m---------------------------------------------------------------------------\u001b[0m",
      "\u001b[0;31mKeyboardInterrupt\u001b[0m                         Traceback (most recent call last)",
      "\u001b[0;32m<ipython-input-7-76bf8e7c46a9>\u001b[0m in \u001b[0;36m<module>\u001b[0;34m()\u001b[0m\n\u001b[1;32m      5\u001b[0m     \u001b[0;32mfor\u001b[0m \u001b[0mcontent\u001b[0m \u001b[0;32min\u001b[0m \u001b[0mf\u001b[0m\u001b[0;34m:\u001b[0m\u001b[0;34m\u001b[0m\u001b[0m\n\u001b[1;32m      6\u001b[0m         \u001b[0mgDocNumber\u001b[0m\u001b[0;34m+=\u001b[0m\u001b[0;36m1\u001b[0m\u001b[0;34m\u001b[0m\u001b[0m\n\u001b[0;32m----> 7\u001b[0;31m         \u001b[0mmyTdm\u001b[0m\u001b[0;34m=\u001b[0m\u001b[0mlineProcess\u001b[0m\u001b[0;34m(\u001b[0m\u001b[0mmyTdm\u001b[0m\u001b[0;34m,\u001b[0m \u001b[0mcontent\u001b[0m\u001b[0;34m,\u001b[0m \u001b[0mgDocNumber\u001b[0m\u001b[0;34m,\u001b[0m \u001b[0;36m3\u001b[0m\u001b[0;34m)\u001b[0m\u001b[0;34m\u001b[0m\u001b[0m\n\u001b[0m\u001b[1;32m      8\u001b[0m \u001b[0;34m\u001b[0m\u001b[0m\n\u001b[1;32m      9\u001b[0m \u001b[0;34m\u001b[0m\u001b[0m\n",
      "\u001b[0;32m<ipython-input-4-e6ac5d4b781a>\u001b[0m in \u001b[0;36mlineProcess\u001b[0;34m(tdm, inline, docNumber, ngrams)\u001b[0m\n\u001b[1;32m     12\u001b[0m     \u001b[0;31m# and finally add to the dictionary\u001b[0m\u001b[0;34m\u001b[0m\u001b[0;34m\u001b[0m\u001b[0m\n\u001b[1;32m     13\u001b[0m     \u001b[0;32mfor\u001b[0m \u001b[0mk\u001b[0m \u001b[0;32min\u001b[0m \u001b[0mngramlist\u001b[0m\u001b[0;34m:\u001b[0m\u001b[0;34m\u001b[0m\u001b[0m\n\u001b[0;32m---> 14\u001b[0;31m         \u001b[0mk\u001b[0m\u001b[0;34m=\u001b[0m\u001b[0;34m':'\u001b[0m\u001b[0;34m.\u001b[0m\u001b[0mjoin\u001b[0m\u001b[0;34m(\u001b[0m\u001b[0mk\u001b[0m\u001b[0;34m)\u001b[0m\u001b[0;34m\u001b[0m\u001b[0m\n\u001b[0m\u001b[1;32m     15\u001b[0m         \u001b[0;32mif\u001b[0m \u001b[0mk\u001b[0m \u001b[0;32mnot\u001b[0m \u001b[0;32min\u001b[0m \u001b[0mtdm\u001b[0m\u001b[0;34m:\u001b[0m \u001b[0mtdm\u001b[0m\u001b[0;34m[\u001b[0m\u001b[0mk\u001b[0m\u001b[0;34m]\u001b[0m\u001b[0;34m=\u001b[0m\u001b[0;34m{\u001b[0m\u001b[0;34m}\u001b[0m\u001b[0;34m\u001b[0m\u001b[0m\n\u001b[1;32m     16\u001b[0m         \u001b[0;32mif\u001b[0m \u001b[0mdocNumber\u001b[0m \u001b[0;32mnot\u001b[0m \u001b[0;32min\u001b[0m \u001b[0mtdm\u001b[0m\u001b[0;34m[\u001b[0m\u001b[0mk\u001b[0m\u001b[0;34m]\u001b[0m\u001b[0;34m:\u001b[0m \u001b[0mtdm\u001b[0m\u001b[0;34m[\u001b[0m\u001b[0mk\u001b[0m\u001b[0;34m]\u001b[0m\u001b[0;34m[\u001b[0m\u001b[0mdocNumber\u001b[0m\u001b[0;34m]\u001b[0m \u001b[0;34m=\u001b[0m \u001b[0;36m0\u001b[0m\u001b[0;34m\u001b[0m\u001b[0m\n",
      "\u001b[0;31mKeyboardInterrupt\u001b[0m: "
     ]
    }
   ],
   "source": [
    "source_file = '/Users/ratb3rt/Downloads/twitter_data/en_US/en_US.twitter.txt'\n",
    "gDocNumber = 0\n",
    "myTdm={}\n",
    "with open(source_file) as f:\n",
    "    for content in f:\n",
    "        gDocNumber+=1\n",
    "        myTdm=lineProcess(myTdm, content, gDocNumber, 3)\n",
    "\n",
    "\n"
   ]
  },
  {
   "cell_type": "code",
   "execution_count": 1,
   "metadata": {
    "collapsed": false
   },
   "outputs": [
    {
     "ename": "NameError",
     "evalue": "name 'purgeSparseTdm' is not defined",
     "output_type": "error",
     "traceback": [
      "\u001b[0;31m---------------------------------------------------------------------------\u001b[0m",
      "\u001b[0;31mNameError\u001b[0m                                 Traceback (most recent call last)",
      "\u001b[0;32m<ipython-input-1-573d06df73e9>\u001b[0m in \u001b[0;36m<module>\u001b[0;34m()\u001b[0m\n\u001b[0;32m----> 1\u001b[0;31m \u001b[0mmyTdm2\u001b[0m\u001b[0;34m=\u001b[0m\u001b[0mpurgeSparseTdm\u001b[0m\u001b[0;34m(\u001b[0m\u001b[0mmyTdm\u001b[0m\u001b[0;34m,\u001b[0m \u001b[0;36m500\u001b[0m\u001b[0;34m)\u001b[0m\u001b[0;34m\u001b[0m\u001b[0m\n\u001b[0m\u001b[1;32m      2\u001b[0m \u001b[0mmyTdm\u001b[0m \u001b[0;34m=\u001b[0m \u001b[0mNone\u001b[0m\u001b[0;34m\u001b[0m\u001b[0m\n",
      "\u001b[0;31mNameError\u001b[0m: name 'purgeSparseTdm' is not defined"
     ]
    }
   ],
   "source": [
    "myTdm2=purgeSparseTdm(myTdm, 500)\n",
    "myTdm = None"
   ]
  },
  {
   "cell_type": "code",
   "execution_count": 121,
   "metadata": {
    "collapsed": false
   },
   "outputs": [],
   "source": [
    "# write my tdm to disk\n",
    "import json\n",
    "with open('en_US.twitter.processed.json', 'w') as f:\n",
    "    for x in myTdm2:\n",
    "        f.write(json.dumps({x:myTdm2[x]}, indent = 2, ensure_ascii=True))"
   ]
  },
  {
   "cell_type": "code",
   "execution_count": null,
   "metadata": {
    "collapsed": true
   },
   "outputs": [],
   "source": []
  }
 ],
 "metadata": {
  "kernelspec": {
   "display_name": "Python 2",
   "language": "python",
   "name": "python2"
  },
  "language_info": {
   "codemirror_mode": {
    "name": "ipython",
    "version": 2
   },
   "file_extension": ".py",
   "mimetype": "text/x-python",
   "name": "python",
   "nbconvert_exporter": "python",
   "pygments_lexer": "ipython2",
   "version": "2.7.6"
  }
 },
 "nbformat": 4,
 "nbformat_minor": 0
}
